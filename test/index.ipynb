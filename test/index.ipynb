{
 "cells": [
  {
   "cell_type": "markdown",
   "metadata": {},
   "source": [
    "# Comparison Operators Lab"
   ]
  },
  {
   "cell_type": "markdown",
   "metadata": {},
   "source": [
    "## Introduction\n",
    "We've learned about comparison operators, what they do and how to use them. We've also looked at logical and identity operators to compare elements. So, in this lab, let's practice our new skills by using these operators to get the result we would like out of each comparison."
   ]
  },
  {
   "cell_type": "markdown",
   "metadata": {},
   "source": [
    "## Objectives\n",
    "* Practice using comparison operators \n",
    "* Practice using logical and identity operators "
   ]
  },
  {
   "cell_type": "markdown",
   "metadata": {},
   "source": [
    "## Instructions"
   ]
  },
  {
   "cell_type": "markdown",
   "metadata": {},
   "source": [
    "Use the correct comparison operator to get the desired output, which you will find in a comment. Replace the `[COMPARISON]`, with the correct operator. See the example below.\n",
    "\n",
    "```python\n",
    "boolean_compare = False [COMPARISON] True # True\n",
    "# becomes\n",
    "boolean_compare = False != True # True\n",
    "```"
   ]
  },
  {
   "cell_type": "markdown",
   "metadata": {},
   "source": [
    "> **Remember** the comparison operators are: `==`, `!=`, `<`, `>`, `<=`, `>=`"
   ]
  },
  {
   "cell_type": "code",
   "execution_count": null,
   "metadata": {},
   "outputs": [],
   "source": [
    "boolean_compare = # True [COMPARISON] True # False\n",
    "boolean_compare2 = False [COMPARISON] True # False"
   ]
  },
  {
   "cell_type": "code",
   "execution_count": null,
   "metadata": {},
   "outputs": [],
   "source": [
    "number_compare = 10 [COMPARISON] 10 # True\n",
    "number_compare2 = -20 [COMPARISON] 30 # True\n",
    "number_compare3 = 4 [COMPARISON] 5 # False"
   ]
  },
  {
   "cell_type": "code",
   "execution_count": null,
   "metadata": {},
   "outputs": [],
   "source": [
    "string_compare = \"stacy\" [COMPARISON] \"STACY\" # True\n",
    "string_compare2 = \"hey i love python!\" [COMPARISON] \"hi love python\" # False\n",
    "string_compare3 = \"this string is bigger than the other\" [COMPARISON] \"that is true\" # True"
   ]
  },
  {
   "cell_type": "code",
   "execution_count": null,
   "metadata": {
    "scrolled": true
   },
   "outputs": [],
   "source": [
    "# In this section, do not use either == or != operators\n",
    "list_compare = [0,0,0,0] [COMPARISON] [0,0,0] # True\n",
    "list_compare2 = [1,0,0] [COMPARISON] [0,0,0] # True\n",
    "list_compare3 = [0,0,0] [COMPARISON] [0,0,3] # False\n",
    "list_compare4 = [0,0,3,0] [COMPARISON] [0,0,3] # True\n",
    "list_compare5 = [0,0,4,0] [COMPARISON] [0,0,3] # False"
   ]
  },
  {
   "cell_type": "markdown",
   "metadata": {},
   "source": [
    "### Practicing Identity and Logical Operators"
   ]
  },
  {
   "cell_type": "markdown",
   "metadata": {},
   "source": [
    "In this next section, use the identity and logical operators to get the desired output as you did in the examples above using the comparison operators."
   ]
  },
  {
   "cell_type": "markdown",
   "metadata": {},
   "source": [
    "> **Remember:**\n",
    "the **logcial operators** are: `and`, `or`, & `not` and\n",
    "the **identity operators** are: `is` & `is not`"
   ]
  },
  {
   "cell_type": "code",
   "execution_count": null,
   "metadata": {},
   "outputs": [],
   "source": [
    "# Use logical opertors for this section\n",
    "logical_compare = 2 [COMPARISON] [] # []\n",
    "logical_compare2 = [COMPARISON] [] # True\n",
    "logical_compare3 = 0 [COMPARISON] [] # 0\n",
    "logical_compare4 = True [COMPARISON] 2 # 2\n",
    "logical_compare5 = 2 [COMPARISON] 3 # 2\n",
    "logical_compare6 = [COMPARISON] True # False\n",
    "logical_compare7 = False [COMPARISON] 2 # False"
   ]
  },
  {
   "cell_type": "code",
   "execution_count": null,
   "metadata": {},
   "outputs": [],
   "source": [
    "# Use identity operators for this section\n",
    "a = []\n",
    "b = a\n",
    "identity_compare = {} [COMPARISON] {}) # False\n",
    "identity_compare2 = a [COMPARISON] b) # True\n",
    "identity_compare3 = b [COMPARISON] []) # True\n",
    "identity_compare4 = 9 [COMPARISON] 10) # True\n",
    "identity_compare5 = \"Same\" [COMPARISON] \"Same\") # False\n",
    "identity_compare6 = [1,3,4] [COMPARISON] [1,2,3]) # False"
   ]
  },
  {
   "cell_type": "markdown",
   "metadata": {},
   "source": [
    "# Summary\n",
    "Great work! After all that, there's nothing we can't compare, well I guess apples and oranges might still off the table. We practiced using comparison, logical, and identity operators in Python to compare elements of the same and different datatypes and or values. Going forward, there will be plenty of instances where we will need to compare elements. So, it is important to have a good understanding of how each of these operators works. Don't worry, as with all concepts in programming, the more we work with something the better we understand it. "
   ]
  }
 ],
 "metadata": {
  "kernelspec": {
   "display_name": "Python 3",
   "language": "python",
   "name": "python3"
  },
  "language_info": {
   "codemirror_mode": {
    "name": "ipython",
    "version": 3
   },
   "file_extension": ".py",
   "mimetype": "text/x-python",
   "name": "python",
   "nbconvert_exporter": "python",
   "pygments_lexer": "ipython3",
   "version": "3.6.5"
  }
 },
 "nbformat": 4,
 "nbformat_minor": 2
}
